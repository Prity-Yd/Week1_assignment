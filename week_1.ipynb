{
  "nbformat": 4,
  "nbformat_minor": 0,
  "metadata": {
    "colab": {
      "provenance": []
    },
    "kernelspec": {
      "name": "python3",
      "display_name": "Python 3"
    },
    "language_info": {
      "name": "python"
    }
  },
  "cells": [
    {
      "cell_type": "code",
      "execution_count": 1,
      "metadata": {
        "colab": {
          "base_uri": "https://localhost:8080/"
        },
        "id": "InfL5fgIz0Kf",
        "outputId": "552e2d71-529c-4627-b02d-a9486da11c09"
      },
      "outputs": [
        {
          "output_type": "stream",
          "name": "stdout",
          "text": [
            "The number is positive.\n",
            "It is also an even number.\n"
          ]
        }
      ],
      "source": [
        "number = 10\n",
        "\n",
        "if number > 0:\n",
        "    print(\"The number is positive.\")\n",
        "    if number % 2 == 0:\n",
        "        print(\"It is also an even number.\")\n",
        "    else:\n",
        "        print(\"It is an odd number.\")\n",
        "elif number == 0:\n",
        "    print(\"The number is zero.\")\n",
        "else:\n",
        "    print(\"The number is negative.\")\n",
        "    if number % 2 == 0:\n",
        "        print(\"It is also an even number.\")\n",
        "    else:\n",
        "        print(\"It is an odd number.\")"
      ]
    },
    {
      "cell_type": "code",
      "source": [],
      "metadata": {
        "id": "3ALCIZaCz6b7"
      },
      "execution_count": null,
      "outputs": []
    }
  ]
}